{
 "cells": [
  {
   "cell_type": "markdown",
   "metadata": {},
   "source": [
    "<H1><center>conversion de datos</center></H1>"
   ]
  },
  {
   "cell_type": "code",
   "execution_count": null,
   "metadata": {},
   "outputs": [],
   "source": [
    "from sklearn import preprocessing\n",
    "\n",
    "le = preprocessing.LabelEncoder()\n",
    "\n",
    "df_conversiones['Conversion2'] = le.fit_transform(df_conversiones['Conversion'])"
   ]
  },
  {
   "cell_type": "code",
   "execution_count": 4,
   "metadata": {},
   "outputs": [
    {
     "ename": "NameError",
     "evalue": "name 'data' is not defined",
     "output_type": "error",
     "traceback": [
      "\u001b[1;31m---------------------------------------------------------------------------\u001b[0m",
      "\u001b[1;31mNameError\u001b[0m                                 Traceback (most recent call last)",
      "\u001b[1;32mc:\\Users\\jonat\\Desktop\\SoyHenry\\M6\\Proyecto Integrador\\Propuesta 1\\tree.ipynb Celda 3\u001b[0m line \u001b[0;36m7\n\u001b[0;32m      <a href='vscode-notebook-cell:/c%3A/Users/jonat/Desktop/SoyHenry/M6/Proyecto%20Integrador/Propuesta%201/tree.ipynb#X20sZmlsZQ%3D%3D?line=2'>3</a>\u001b[0m \u001b[39m# recordemos realizar con anterioridad el EDA, y tambien cambiar el nombre de la columna objetivo por y, para que el modelo lo detecte mejor\u001b[39;00m\n\u001b[0;32m      <a href='vscode-notebook-cell:/c%3A/Users/jonat/Desktop/SoyHenry/M6/Proyecto%20Integrador/Propuesta%201/tree.ipynb#X20sZmlsZQ%3D%3D?line=4'>5</a>\u001b[0m one \u001b[39m=\u001b[39m OneHotEncoder() \u001b[39m#estanciamos la funcion\u001b[39;00m\n\u001b[1;32m----> <a href='vscode-notebook-cell:/c%3A/Users/jonat/Desktop/SoyHenry/M6/Proyecto%20Integrador/Propuesta%201/tree.ipynb#X20sZmlsZQ%3D%3D?line=6'>7</a>\u001b[0m one\u001b[39m.\u001b[39mfit(data) \u001b[39m#pasamos los parametros del dataframe para que sepa que tipo de caracteristicas tiene, ademas detecta la columa y como etiqueta\u001b[39;00m\n\u001b[0;32m      <a href='vscode-notebook-cell:/c%3A/Users/jonat/Desktop/SoyHenry/M6/Proyecto%20Integrador/Propuesta%201/tree.ipynb#X20sZmlsZQ%3D%3D?line=8'>9</a>\u001b[0m data \u001b[39m=\u001b[39m one\u001b[39m.\u001b[39mtransform(data)\u001b[39m.\u001b[39mto_array()\n",
      "\u001b[1;31mNameError\u001b[0m: name 'data' is not defined"
     ]
    }
   ],
   "source": [
    "data.rename(columns={\"HOSPITALIZACIÓN ULTIMO MES\": \"y\"}, inplace=True) # tenemos que renombrar la columna etiqueta como y para que el modelo la reconosca mejor\n",
    "\n",
    "\n",
    "column_to_move = data[\"y\"] # Extrae la columna que deseas mover a la última posición\n",
    "\n",
    "\n",
    "data.drop(columns=[\"y\"], inplace=True) # Elimina la columna del DataFrame original\n",
    "\n",
    "\n",
    "data[\"y\"] = column_to_move # Agrega la columna al final del DataFrame\n",
    "\n",
    "data"
   ]
  },
  {
   "cell_type": "code",
   "execution_count": null,
   "metadata": {},
   "outputs": [],
   "source": [
    "from sklearn.preprocessing import OneHotEncoder\n",
    "\n",
    "# recordemos realizar con anterioridad el EDA, y tambien cambiar el nombre de la columna objetivo por y, para que el modelo lo detecte mejor\n",
    "\n",
    "one = OneHotEncoder() #estanciamos la funcion\n",
    "\n",
    "one.fit(data) #pasamos los parametros del dataframe para que sepa que tipo de caracteristicas tiene, ademas detecta la columa y como etiqueta\n",
    "\n",
    "data1 = one.transform(data).toarray()"
   ]
  },
  {
   "cell_type": "code",
   "execution_count": null,
   "metadata": {},
   "outputs": [],
   "source": [
    "X = data[:, :-1] # tomamos todos los valores excepto la ultima columna denominada y\n",
    "y = data[: , -1] # tomamos solo la ultima columna para utilizar de etiqueta objetivo"
   ]
  },
  {
   "cell_type": "markdown",
   "metadata": {},
   "source": [
    "<h1><center>Todo esto es para entrenar el modelo TREE</center></h1>"
   ]
  },
  {
   "cell_type": "code",
   "execution_count": 59,
   "metadata": {},
   "outputs": [],
   "source": [
    "import pandas as pd\n",
    "import numpy as np\n",
    "from sklearn.model_selection import train_test_split\n",
    "from sklearn.metrics import accuracy_score\n",
    "from sklearn.model_selection import GridSearchCV\n",
    "from sklearn.preprocessing import StandardScaler\n",
    "from sklearn.tree import DecisionTreeClassifier\n",
    "from sklearn.metrics import accuracy_score\n",
    "from sklearn.neighbors import KNeighborsClassifier\n",
    "\n",
    "# Instanciamos un objeto de la clase DecisionTreeClassifier\n",
    "\n",
    "#max_depth es la profundidad\n",
    "\n",
    "#random_state es la semilla que tenemos para randomizar el uso de los datos, si mantenemos el mismo numero siempre va a ramdomizarlo de la misma forma\n",
    "\n",
    "clf = DecisionTreeClassifier(max_depth = 3, random_state = 42)"
   ]
  },
  {
   "cell_type": "code",
   "execution_count": 62,
   "metadata": {},
   "outputs": [],
   "source": [
    "param_grid = {'max_depth':np.arange(1, 20)}\n",
    "\n",
    "knn = DecisionTreeClassifier(max_depth = 3, random_state = 42)\n",
    "\n",
    "# Le pasamos la grilla que creamos\n",
    "model = GridSearchCV(knn, param_grid=param_grid, cv=5)\n",
    "\n",
    "\n"
   ]
  },
  {
   "cell_type": "code",
   "execution_count": 22,
   "metadata": {},
   "outputs": [
    {
     "data": {
      "text/plain": [
       "120"
      ]
     },
     "execution_count": 22,
     "metadata": {},
     "output_type": "execute_result"
    }
   ],
   "source": [
    "# separamos los datos en entrenamiento y testeo\n",
    "\n",
    "#test_size equivale al porcentaje del total que se va a utilizar para entrenar al modelo, random_state es lo mismo que antes, una semilla para randomizar especificamente\n",
    "\n",
    "X_train, X_test, y_train, y_test = train_test_split(X, y, test_size = 0.2, random_state = 42)\n",
    "\n",
    "len(X_train)"
   ]
  },
  {
   "cell_type": "code",
   "execution_count": null,
   "metadata": {},
   "outputs": [],
   "source": [
    "print(clf.classes_) # cantidad de clases\n",
    "print(clf.n_classes_) #len de cantidad de clases\n",
    "print(clf.max_features_) #cantidad de caracteristicas que el modelo evaluo para llegar a la desicion\n",
    "print(clf.feature_importances_) #importancia de cada caracteristica, esto nos sirve para ver si el modelo no sufre redundancias"
   ]
  },
  {
   "cell_type": "code",
   "execution_count": null,
   "metadata": {},
   "outputs": [],
   "source": [
    "# usamos el modelo para predecir, y guardamos los valores\n",
    "\n",
    "y_pred = clf.predict(X.values)"
   ]
  },
  {
   "cell_type": "code",
   "execution_count": 2,
   "metadata": {},
   "outputs": [],
   "source": [
    "class tree1(): \n",
    "    \n",
    "    def __init__(self,data,random,max):\n",
    "        \n",
    "        pass\n",
    "        "
   ]
  },
  {
   "cell_type": "code",
   "execution_count": 66,
   "metadata": {},
   "outputs": [],
   "source": [
    "\n",
    "def tree(data ,  random = 42, datos = True, max = 20):\n",
    "    \n",
    "    X = data.iloc[:, :-1]\n",
    "    \n",
    "    y = data.iloc[:,-1]\n",
    "\n",
    "    X_train, X_test, y_train, y_test = train_test_split(X, y, test_size = 0.25, random_state = 42)\n",
    "    \n",
    "    param_grid = {'max_depth':np.arange(1, max)}\n",
    "\n",
    "    knn = DecisionTreeClassifier(max_depth = 3, random_state = random)\n",
    "\n",
    "    model = GridSearchCV(knn, param_grid=param_grid, cv=5)\n",
    "    \n",
    "    clf = DecisionTreeClassifier(max_depth = max, random_state = random)\n",
    "    \n",
    "    tree = clf.fit(X_train,y_train)\n",
    "    \n",
    "    evaluacion = tree.predict(X_test)\n",
    "    \n",
    "    score = accuracy_score(evaluacion,y_test)\n",
    "    \n",
    "    if datos == False:\n",
    "        print(clf.classes_)\n",
    "        print(clf.n_classes_)\n",
    "        print(clf.max_features_)\n",
    "        print(clf.feature_importances_)\n",
    "    \n",
    "    return tree,score\n",
    "    \n",
    "    "
   ]
  },
  {
   "cell_type": "code",
   "execution_count": 53,
   "metadata": {},
   "outputs": [
    {
     "name": "stdout",
     "output_type": "stream",
     "text": [
      "[0. 1. 2.]\n",
      "3\n",
      "2\n",
      "[0.93184228 0.06815772]\n"
     ]
    }
   ],
   "source": [
    "modelo = tree(4,data[['petal length (cm)','petal width (cm)','target']],datos = False)"
   ]
  },
  {
   "cell_type": "code",
   "execution_count": 52,
   "metadata": {},
   "outputs": [
    {
     "data": {
      "text/plain": [
       "(DecisionTreeClassifier(max_depth=4, random_state=42), 1.0)"
      ]
     },
     "execution_count": 52,
     "metadata": {},
     "output_type": "execute_result"
    }
   ],
   "source": [
    "modelo"
   ]
  }
 ],
 "metadata": {
  "kernelspec": {
   "display_name": "Python 3",
   "language": "python",
   "name": "python3"
  },
  "language_info": {
   "codemirror_mode": {
    "name": "ipython",
    "version": 3
   },
   "file_extension": ".py",
   "mimetype": "text/x-python",
   "name": "python",
   "nbconvert_exporter": "python",
   "pygments_lexer": "ipython3",
   "version": "3.11.5"
  }
 },
 "nbformat": 4,
 "nbformat_minor": 2
}
