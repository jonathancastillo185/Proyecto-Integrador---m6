{
 "cells": [
  {
   "cell_type": "code",
   "execution_count": 66,
   "metadata": {},
   "outputs": [],
   "source": [
    "from transformers import pipeline\n"
   ]
  },
  {
   "cell_type": "code",
   "execution_count": 52,
   "metadata": {},
   "outputs": [],
   "source": [
    "clasificador = pipeline(task=\"text-classification\", model=\"SamLowe/roberta-base-go_emotions\", top_k=None)\n",
    "traductor = pipeline(\"translation\", model='Helsinki-NLP/opus-mt-es-en')\n",
    "nlp = pipeline(\"document-question-answering\", model=\"impira/layoutlm-document-qa\",)\n"
   ]
  },
  {
   "cell_type": "code",
   "execution_count": 29,
   "metadata": {},
   "outputs": [
    {
     "name": "stderr",
     "output_type": "stream",
     "text": [
      "No model was supplied, defaulted to distilbert-base-uncased-finetuned-sst-2-english and revision af0f99b (https://huggingface.co/distilbert-base-uncased-finetuned-sst-2-english).\n",
      "Using a pipeline without specifying a model name and revision in production is not recommended.\n"
     ]
    }
   ],
   "source": [
    "clasificador = pipeline('text-classification')"
   ]
  },
  {
   "cell_type": "code",
   "execution_count": 15,
   "metadata": {},
   "outputs": [
    {
     "name": "stdout",
     "output_type": "stream",
     "text": [
      "fear 0.8750525116920471\n"
     ]
    }
   ],
   "source": [
    "print(clasificador('El dia esta hermosamente terrible')[0][0]['label'] , clasificador('El dia esta hermosamente terrible')[0][0]['score'])\n"
   ]
  },
  {
   "cell_type": "code",
   "execution_count": 57,
   "metadata": {},
   "outputs": [
    {
     "data": {
      "text/plain": [
       "28"
      ]
     },
     "execution_count": 57,
     "metadata": {},
     "output_type": "execute_result"
    }
   ],
   "source": [
    "len(clasificador('El dia esta hermosamente terrible')[0])"
   ]
  },
  {
   "cell_type": "code",
   "execution_count": 53,
   "metadata": {},
   "outputs": [],
   "source": [
    "def traduc(x):\n",
    "    return traductor(x)[0]['translation_text']"
   ]
  },
  {
   "cell_type": "code",
   "execution_count": 25,
   "metadata": {},
   "outputs": [],
   "source": [
    "def extraer(text):\n",
    "\n",
    "    clasificad = clasificador(traductor(text)[0]['translation_text'])\n",
    "    alm = []\n",
    "    for x in range(len(clasificad[0])):\n",
    "        alm.append(str(clasificad[0][x]['label'])+' : '+str(clasificad[0][x]['score']))\n",
    "    print(alm)\n",
    "    \n",
    "    "
   ]
  },
  {
   "cell_type": "code",
   "execution_count": 26,
   "metadata": {},
   "outputs": [
    {
     "name": "stdout",
     "output_type": "stream",
     "text": [
      "['admiration : 0.9321750402450562', 'love : 0.03227546066045761', 'joy : 0.031823016703128815', 'approval : 0.023065682500600815', 'excitement : 0.02087564766407013', 'neutral : 0.012879523448646069', 'gratitude : 0.005021612625569105', 'pride : 0.004118175711482763', 'optimism : 0.003828182350844145', 'realization : 0.0036269959527999163', 'surprise : 0.003289883490651846', 'curiosity : 0.0025114514864981174', 'disapproval : 0.002281766152009368', 'annoyance : 0.002167409285902977', 'amusement : 0.0020885744597762823', 'caring : 0.0019733328372240067', 'desire : 0.0016961375949904323', 'disappointment : 0.0016507281688973308', 'confusion : 0.001524027087725699', 'sadness : 0.0014089494943618774', 'anger : 0.0013615068746730685', 'relief : 0.0009216439793817699', 'disgust : 0.0005607171915471554', 'fear : 0.0005537112010642886', 'grief : 0.00039964987081475556', 'nervousness : 0.0002592321252450347', 'embarrassment : 0.0002511532511562109', 'remorse : 0.00024165752984117717']\n"
     ]
    }
   ],
   "source": [
    "extraer('el dia esta hermoso')"
   ]
  },
  {
   "cell_type": "code",
   "execution_count": 27,
   "metadata": {},
   "outputs": [
    {
     "data": {
      "text/plain": [
       "['La vida es un regalo precioso',\n",
       " 'La amistad ilumina nuestros días',\n",
       " 'Cada día es una oportunidad para crecer',\n",
       " 'La sonrisa es el lenguaje universal del amor',\n",
       " 'El amor y la bondad pueden cambiar el mundo',\n",
       " 'La perseverancia lleva al éxito',\n",
       " 'La gratitud transforma lo que tenemos en suficiente',\n",
       " 'El tiempo pasado con la familia es tiempo bien invertido',\n",
       " 'La esperanza es la luz que nos guía en la oscuridad',\n",
       " 'Cada desafío es una oportunidad para aprender y crecer',\n",
       " 'La decepción puede herir profundamente',\n",
       " 'La tristeza a veces parece interminable',\n",
       " 'La soledad puede ser abrumadora',\n",
       " 'La enfermedad es un recordatorio de nuestra fragilidad',\n",
       " 'La envidia envenena el corazón y el alma',\n",
       " 'El miedo puede paralizarnos',\n",
       " 'La injusticia hiere la igualdad y la paz',\n",
       " 'El odio solo genera más odio',\n",
       " 'La pérdida nos recuerda lo efímera que es la vida',\n",
       " 'La mentira socava la confianza en los demás',\n",
       " '']"
      ]
     },
     "execution_count": 27,
     "metadata": {},
     "output_type": "execute_result"
    }
   ],
   "source": [
    "positivas = '''La vida es un regalo precioso.\n",
    "La amistad ilumina nuestros días.\n",
    "Cada día es una oportunidad para crecer.\n",
    "La sonrisa es el lenguaje universal del amor.\n",
    "El amor y la bondad pueden cambiar el mundo.\n",
    "La perseverancia lleva al éxito.\n",
    "La gratitud transforma lo que tenemos en suficiente.\n",
    "El tiempo pasado con la familia es tiempo bien invertido.\n",
    "La esperanza es la luz que nos guía en la oscuridad.\n",
    "Cada desafío es una oportunidad para aprender y crecer.\n",
    "La decepción puede herir profundamente.\n",
    "La tristeza a veces parece interminable.\n",
    "La soledad puede ser abrumadora.\n",
    "La enfermedad es un recordatorio de nuestra fragilidad.\n",
    "La envidia envenena el corazón y el alma.\n",
    "El miedo puede paralizarnos.\n",
    "La injusticia hiere la igualdad y la paz.\n",
    "El odio solo genera más odio.\n",
    "La pérdida nos recuerda lo efímera que es la vida.\n",
    "La mentira socava la confianza en los demás.'''\n",
    "positivas = positivas.split('.')\n",
    "positivas = [x.strip('\\n') for x in positivas]\n",
    "positivas"
   ]
  },
  {
   "cell_type": "code",
   "execution_count": 36,
   "metadata": {},
   "outputs": [
    {
     "data": {
      "text/plain": [
       "['La vida es un regalo precioso que nos brinda oportunidades para crecer y amar cada día',\n",
       " 'La amistad ilumina nuestros días con risas, apoyo inquebrantable y momentos inolvidables',\n",
       " 'Cada día es una oportunidad para crecer, aprender y ser una mejor versión de uno mismo',\n",
       " 'La sonrisa es el lenguaje universal del amor, transmitiendo alegría y calidez a todos',\n",
       " 'El amor y la bondad pueden cambiar el mundo, creando un lugar más luminoso para todos',\n",
       " 'La perseverancia lleva al éxito, superando obstáculos y alcanzando nuestras metas y sueños',\n",
       " 'La gratitud transforma lo que tenemos en suficiente, haciéndonos apreciar las pequeñas cosas de la vida',\n",
       " 'El tiempo pasado con la familia es tiempo bien invertido, creando recuerdos que durarán toda la vida',\n",
       " 'La esperanza es la luz que nos guía en la oscuridad, recordándonos que siempre hay una salida',\n",
       " 'Cada desafío es una oportunidad para aprender y crecer, fortaleciendo nuestra resiliencia y sabiduría',\n",
       " 'La decepción puede herir profundamente, dejándonos vulnerables y preguntándonos por qué',\n",
       " 'La tristeza a veces parece interminable, envolviéndonos en un abrazo oscuro y desalentador',\n",
       " 'La soledad puede ser abrumadora, recordándonos la necesidad innata de conexión y compañía',\n",
       " 'La enfermedad es un recordatorio de nuestra fragilidad, desafiando nuestra fortaleza y resistencia',\n",
       " 'La envidia envenena el corazón y el alma, alejándonos de la alegría y la paz interior',\n",
       " 'El miedo puede paralizarnos, limitando nuestras acciones y obstaculizando nuestro potencial',\n",
       " 'La injusticia hiere la igualdad y la paz, dejando cicatrices en la sociedad y el corazón humano',\n",
       " 'El odio solo genera más odio, alimentando un ciclo destructivo que debemos romper',\n",
       " 'La pérdida nos recuerda lo efímera que es la vida, haciéndonos valorar cada momento',\n",
       " 'La mentira socava la confianza en los demás, erosionando las bases de nuestras relaciones',\n",
       " '']"
      ]
     },
     "execution_count": 36,
     "metadata": {},
     "output_type": "execute_result"
    }
   ],
   "source": [
    "positivas = '''La vida es un regalo precioso que nos brinda oportunidades para crecer y amar cada día.\n",
    "La amistad ilumina nuestros días con risas, apoyo inquebrantable y momentos inolvidables.\n",
    "Cada día es una oportunidad para crecer, aprender y ser una mejor versión de uno mismo.\n",
    "La sonrisa es el lenguaje universal del amor, transmitiendo alegría y calidez a todos.\n",
    "El amor y la bondad pueden cambiar el mundo, creando un lugar más luminoso para todos.\n",
    "La perseverancia lleva al éxito, superando obstáculos y alcanzando nuestras metas y sueños.\n",
    "La gratitud transforma lo que tenemos en suficiente, haciéndonos apreciar las pequeñas cosas de la vida.\n",
    "El tiempo pasado con la familia es tiempo bien invertido, creando recuerdos que durarán toda la vida.\n",
    "La esperanza es la luz que nos guía en la oscuridad, recordándonos que siempre hay una salida.\n",
    "Cada desafío es una oportunidad para aprender y crecer, fortaleciendo nuestra resiliencia y sabiduría.\n",
    "La decepción puede herir profundamente, dejándonos vulnerables y preguntándonos por qué.\n",
    "La tristeza a veces parece interminable, envolviéndonos en un abrazo oscuro y desalentador.\n",
    "La soledad puede ser abrumadora, recordándonos la necesidad innata de conexión y compañía.\n",
    "La enfermedad es un recordatorio de nuestra fragilidad, desafiando nuestra fortaleza y resistencia.\n",
    "La envidia envenena el corazón y el alma, alejándonos de la alegría y la paz interior.\n",
    "El miedo puede paralizarnos, limitando nuestras acciones y obstaculizando nuestro potencial.\n",
    "La injusticia hiere la igualdad y la paz, dejando cicatrices en la sociedad y el corazón humano.\n",
    "El odio solo genera más odio, alimentando un ciclo destructivo que debemos romper.\n",
    "La pérdida nos recuerda lo efímera que es la vida, haciéndonos valorar cada momento.\n",
    "La mentira socava la confianza en los demás, erosionando las bases de nuestras relaciones.'''\n",
    "positivas = positivas.split('.')\n",
    "positivas = [x.strip('\\n') for x in positivas]\n",
    "positivas"
   ]
  },
  {
   "cell_type": "code",
   "execution_count": 37,
   "metadata": {},
   "outputs": [
    {
     "name": "stdout",
     "output_type": "stream",
     "text": [
      "Life is a precious gift that gives us opportunities to grow and love every day [[{'label': 'love', 'score': 0.5262912511825562}, {'label': 'admiration', 'score': 0.2802572548389435}, {'label': 'joy', 'score': 0.1819031685590744}, {'label': 'approval', 'score': 0.14152342081069946}, {'label': 'caring', 'score': 0.09640499204397202}, {'label': 'optimism', 'score': 0.046654973179101944}, {'label': 'desire', 'score': 0.041284531354904175}, {'label': 'neutral', 'score': 0.024299923330545425}, {'label': 'excitement', 'score': 0.02241557091474533}, {'label': 'gratitude', 'score': 0.01943971961736679}, {'label': 'pride', 'score': 0.008015681989490986}, {'label': 'relief', 'score': 0.00762228574603796}, {'label': 'realization', 'score': 0.005281371995806694}, {'label': 'sadness', 'score': 0.0034400667063891888}, {'label': 'annoyance', 'score': 0.003040784038603306}, {'label': 'disapproval', 'score': 0.0028625938575714827}, {'label': 'disappointment', 'score': 0.002130951266735792}, {'label': 'anger', 'score': 0.0016293423250317574}, {'label': 'remorse', 'score': 0.0015641356585547328}, {'label': 'amusement', 'score': 0.001253214431926608}, {'label': 'grief', 'score': 0.0010950493160635233}, {'label': 'surprise', 'score': 0.0010772449895739555}, {'label': 'curiosity', 'score': 0.0010280266869813204}, {'label': 'fear', 'score': 0.0009248387650586665}, {'label': 'nervousness', 'score': 0.0008967804023995996}, {'label': 'disgust', 'score': 0.0008251921972259879}, {'label': 'confusion', 'score': 0.0006347279995679855}, {'label': 'embarrassment', 'score': 0.0004394743300508708}]]\n",
      "Friendship illuminates our days with laughter, unwavering support and unforgettable moments [[{'label': 'joy', 'score': 0.7061707377433777}, {'label': 'amusement', 'score': 0.26887252926826477}, {'label': 'approval', 'score': 0.07078763842582703}, {'label': 'neutral', 'score': 0.05620529502630234}, {'label': 'admiration', 'score': 0.0502953939139843}, {'label': 'love', 'score': 0.018950175493955612}, {'label': 'caring', 'score': 0.017775394022464752}, {'label': 'optimism', 'score': 0.01449047215282917}, {'label': 'excitement', 'score': 0.012548643164336681}, {'label': 'relief', 'score': 0.010541355237364769}, {'label': 'realization', 'score': 0.009056471288204193}, {'label': 'annoyance', 'score': 0.0052184597589075565}, {'label': 'pride', 'score': 0.0038643861189484596}, {'label': 'sadness', 'score': 0.003457586048170924}, {'label': 'gratitude', 'score': 0.003327398793771863}, {'label': 'desire', 'score': 0.003068750025704503}, {'label': 'disapproval', 'score': 0.002345340559259057}, {'label': 'anger', 'score': 0.0015187793178483844}, {'label': 'disappointment', 'score': 0.0014424469554796815}, {'label': 'confusion', 'score': 0.0012006269535049796}, {'label': 'nervousness', 'score': 0.0011387233389541507}, {'label': 'curiosity', 'score': 0.0009457578998990357}, {'label': 'grief', 'score': 0.0008463551639579237}, {'label': 'remorse', 'score': 0.0007169487071223557}, {'label': 'embarrassment', 'score': 0.0007092974847182631}, {'label': 'surprise', 'score': 0.0006233132444322109}, {'label': 'fear', 'score': 0.0005882731638848782}, {'label': 'disgust', 'score': 0.0005265626241452992}]]\n",
      "Every day is an opportunity to grow, learn and be a better version of yourself [[{'label': 'optimism', 'score': 0.3404468297958374}, {'label': 'approval', 'score': 0.2692083418369293}, {'label': 'neutral', 'score': 0.18917709589004517}, {'label': 'caring', 'score': 0.09175289422273636}, {'label': 'desire', 'score': 0.07419372349977493}, {'label': 'admiration', 'score': 0.06629664450883865}, {'label': 'excitement', 'score': 0.01938054710626602}, {'label': 'realization', 'score': 0.017991533502936363}, {'label': 'joy', 'score': 0.010456843301653862}, {'label': 'gratitude', 'score': 0.01034553349018097}, {'label': 'pride', 'score': 0.008733983151614666}, {'label': 'relief', 'score': 0.007864686660468578}, {'label': 'annoyance', 'score': 0.0026617657858878374}, {'label': 'love', 'score': 0.0025151213631033897}, {'label': 'fear', 'score': 0.0022036584559828043}, {'label': 'disapproval', 'score': 0.0018797410884872079}, {'label': 'disappointment', 'score': 0.0016737004043534398}, {'label': 'sadness', 'score': 0.0014799709897488356}, {'label': 'curiosity', 'score': 0.001472634612582624}, {'label': 'surprise', 'score': 0.0013452235143631697}, {'label': 'nervousness', 'score': 0.0012206161627545953}, {'label': 'remorse', 'score': 0.0012076124548912048}, {'label': 'amusement', 'score': 0.0009902729652822018}, {'label': 'confusion', 'score': 0.0008508612518198788}, {'label': 'grief', 'score': 0.0008495188085362315}, {'label': 'disgust', 'score': 0.000775976455770433}, {'label': 'anger', 'score': 0.0005811243318021297}, {'label': 'embarrassment', 'score': 0.00044386344961822033}]]\n",
      "Smile is the universal language of love, conveying joy and warmth to all [[{'label': 'love', 'score': 0.8509629368782043}, {'label': 'joy', 'score': 0.42461958527565}, {'label': 'approval', 'score': 0.09150465577840805}, {'label': 'admiration', 'score': 0.08274504542350769}, {'label': 'caring', 'score': 0.028880605474114418}, {'label': 'neutral', 'score': 0.026051264256238937}, {'label': 'excitement', 'score': 0.019492149353027344}, {'label': 'optimism', 'score': 0.01477075181901455}, {'label': 'desire', 'score': 0.009045176208019257}, {'label': 'amusement', 'score': 0.006494961678981781}, {'label': 'realization', 'score': 0.005723260343074799}, {'label': 'annoyance', 'score': 0.004782354924827814}, {'label': 'relief', 'score': 0.004354982636868954}, {'label': 'gratitude', 'score': 0.004335361998528242}, {'label': 'sadness', 'score': 0.004204500932246447}, {'label': 'anger', 'score': 0.0034683295525610447}, {'label': 'disapproval', 'score': 0.0033607936929911375}, {'label': 'pride', 'score': 0.0027633914723992348}, {'label': 'disappointment', 'score': 0.0021499854046851397}, {'label': 'confusion', 'score': 0.001474379445426166}, {'label': 'curiosity', 'score': 0.001456970116123557}, {'label': 'remorse', 'score': 0.0013467618264257908}, {'label': 'nervousness', 'score': 0.0011315267765894532}, {'label': 'disgust', 'score': 0.0010417605517432094}, {'label': 'surprise', 'score': 0.0009665479301474988}, {'label': 'fear', 'score': 0.0008359899511560798}, {'label': 'grief', 'score': 0.0007635916699655354}, {'label': 'embarrassment', 'score': 0.0005950646591372788}]]\n",
      "Love and goodness can change the world, creating a brighter place for all [[{'label': 'love', 'score': 0.5876801609992981}, {'label': 'caring', 'score': 0.37088409066200256}, {'label': 'optimism', 'score': 0.29755792021751404}, {'label': 'approval', 'score': 0.19180145859718323}, {'label': 'admiration', 'score': 0.09077389538288116}, {'label': 'desire', 'score': 0.07442273199558258}, {'label': 'neutral', 'score': 0.03406194597482681}, {'label': 'joy', 'score': 0.022852888330817223}, {'label': 'gratitude', 'score': 0.01234299223870039}, {'label': 'excitement', 'score': 0.009649100713431835}, {'label': 'realization', 'score': 0.0053508467972278595}, {'label': 'disapproval', 'score': 0.004139830358326435}, {'label': 'annoyance', 'score': 0.0037021436728537083}, {'label': 'remorse', 'score': 0.0032082805410027504}, {'label': 'relief', 'score': 0.0031749759800732136}, {'label': 'anger', 'score': 0.003071565181016922}, {'label': 'pride', 'score': 0.0029774466529488564}, {'label': 'curiosity', 'score': 0.002835081424564123}, {'label': 'sadness', 'score': 0.0025953627191483974}, {'label': 'disappointment', 'score': 0.0020652383100241423}, {'label': 'fear', 'score': 0.0013846310321241617}, {'label': 'confusion', 'score': 0.0013279939303174615}, {'label': 'disgust', 'score': 0.0011611488880589604}, {'label': 'amusement', 'score': 0.0011095184599980712}, {'label': 'nervousness', 'score': 0.0010565519332885742}, {'label': 'grief', 'score': 0.0010473326547071338}, {'label': 'surprise', 'score': 0.0007426546653732657}, {'label': 'embarrassment', 'score': 0.0004260009154677391}]]\n",
      "Perseverance leads to success, overcoming obstacles and achieving our goals and dreams [[{'label': 'optimism', 'score': 0.3465469479560852}, {'label': 'approval', 'score': 0.2596886157989502}, {'label': 'neutral', 'score': 0.1928815096616745}, {'label': 'desire', 'score': 0.1347690224647522}, {'label': 'admiration', 'score': 0.12699860334396362}, {'label': 'caring', 'score': 0.03329608216881752}, {'label': 'gratitude', 'score': 0.021835995838046074}, {'label': 'realization', 'score': 0.014402871951460838}, {'label': 'excitement', 'score': 0.014376584440469742}, {'label': 'pride', 'score': 0.012745866551995277}, {'label': 'joy', 'score': 0.010665868408977985}, {'label': 'relief', 'score': 0.008001476526260376}, {'label': 'disappointment', 'score': 0.003541434882208705}, {'label': 'disapproval', 'score': 0.003073523985221982}, {'label': 'annoyance', 'score': 0.0030349423177540302}, {'label': 'sadness', 'score': 0.0019740634597837925}, {'label': 'curiosity', 'score': 0.0017114507500082254}, {'label': 'surprise', 'score': 0.0015863948501646519}, {'label': 'fear', 'score': 0.0015252771554514766}, {'label': 'amusement', 'score': 0.0012095965212211013}, {'label': 'confusion', 'score': 0.0010457877069711685}, {'label': 'remorse', 'score': 0.00103935063816607}, {'label': 'grief', 'score': 0.0009626480168662965}, {'label': 'nervousness', 'score': 0.0009306463180109859}, {'label': 'love', 'score': 0.0009062612662091851}, {'label': 'disgust', 'score': 0.0007171276956796646}, {'label': 'anger', 'score': 0.0004962399834766984}, {'label': 'embarrassment', 'score': 0.00041437576874159276}]]\n",
      "Gratitude transforms what we have into enough, making us appreciate the little things of life [[{'label': 'admiration', 'score': 0.6066687703132629}, {'label': 'gratitude', 'score': 0.18164098262786865}, {'label': 'approval', 'score': 0.1434643417596817}, {'label': 'joy', 'score': 0.12983928620815277}, {'label': 'neutral', 'score': 0.046118155121803284}, {'label': 'pride', 'score': 0.03164725750684738}, {'label': 'relief', 'score': 0.025650331750512123}, {'label': 'caring', 'score': 0.02047298103570938}, {'label': 'excitement', 'score': 0.0135991545394063}, {'label': 'realization', 'score': 0.01252609770745039}, {'label': 'optimism', 'score': 0.011935209855437279}, {'label': 'annoyance', 'score': 0.004028649535030127}, {'label': 'love', 'score': 0.0029624963644891977}, {'label': 'disapproval', 'score': 0.002678081626072526}, {'label': 'surprise', 'score': 0.0017812076257541776}, {'label': 'disappointment', 'score': 0.001720605418086052}, {'label': 'desire', 'score': 0.0016464022919535637}, {'label': 'sadness', 'score': 0.0016339547000825405}, {'label': 'amusement', 'score': 0.001463603344745934}, {'label': 'grief', 'score': 0.001283659366890788}, {'label': 'anger', 'score': 0.001111784134991467}, {'label': 'remorse', 'score': 0.0009427835466340184}, {'label': 'embarrassment', 'score': 0.0006970734102651477}, {'label': 'curiosity', 'score': 0.0006716045318171382}, {'label': 'confusion', 'score': 0.0006635054014623165}, {'label': 'disgust', 'score': 0.000580604188144207}, {'label': 'fear', 'score': 0.00046765533625148237}, {'label': 'nervousness', 'score': 0.00044759607408195734}]]\n",
      "The time spent with the family is well spent time, creating memories that will last a lifetime. [[{'label': 'joy', 'score': 0.6990393996238708}, {'label': 'admiration', 'score': 0.2475728541612625}, {'label': 'approval', 'score': 0.0890420600771904}, {'label': 'neutral', 'score': 0.04666585847735405}, {'label': 'excitement', 'score': 0.037310995161533356}, {'label': 'relief', 'score': 0.029139887541532516}, {'label': 'gratitude', 'score': 0.026285845786333084}, {'label': 'pride', 'score': 0.020205428823828697}, {'label': 'realization', 'score': 0.020027317106723785}, {'label': 'love', 'score': 0.016993854194879532}, {'label': 'optimism', 'score': 0.01575932838022709}, {'label': 'caring', 'score': 0.015203763730823994}, {'label': 'desire', 'score': 0.008368222042918205}, {'label': 'amusement', 'score': 0.00798239279538393}, {'label': 'sadness', 'score': 0.0032569896429777145}, {'label': 'annoyance', 'score': 0.00304920575581491}, {'label': 'disapproval', 'score': 0.002448077779263258}, {'label': 'disappointment', 'score': 0.0017215588595718145}, {'label': 'grief', 'score': 0.001442133798263967}, {'label': 'surprise', 'score': 0.001422218163497746}, {'label': 'nervousness', 'score': 0.0012588443933054805}, {'label': 'confusion', 'score': 0.0012147201923653483}, {'label': 'fear', 'score': 0.0009464158792980015}, {'label': 'curiosity', 'score': 0.0008074105135165155}, {'label': 'anger', 'score': 0.0008020309032872319}, {'label': 'remorse', 'score': 0.0007107963319867849}, {'label': 'embarrassment', 'score': 0.0007072078296914697}, {'label': 'disgust', 'score': 0.0005413460894487798}]]\n",
      "Hope is the light that guides us in the dark, reminding us that there is always a way out [[{'label': 'optimism', 'score': 0.8425071835517883}, {'label': 'neutral', 'score': 0.16017666459083557}, {'label': 'caring', 'score': 0.10690289735794067}, {'label': 'approval', 'score': 0.05398092418909073}, {'label': 'desire', 'score': 0.048198211938142776}, {'label': 'realization', 'score': 0.011760639026761055}, {'label': 'admiration', 'score': 0.009717172011733055}, {'label': 'gratitude', 'score': 0.007298524025827646}, {'label': 'disapproval', 'score': 0.005774248391389847}, {'label': 'disappointment', 'score': 0.004822290036827326}, {'label': 'joy', 'score': 0.0043478114530444145}, {'label': 'annoyance', 'score': 0.0035200014244765043}, {'label': 'love', 'score': 0.0028770044445991516}, {'label': 'remorse', 'score': 0.0028076302260160446}, {'label': 'excitement', 'score': 0.0027475529350340366}, {'label': 'sadness', 'score': 0.0025763357989490032}, {'label': 'relief', 'score': 0.002575697610154748}, {'label': 'fear', 'score': 0.002498002490028739}, {'label': 'confusion', 'score': 0.0024567635264247656}, {'label': 'pride', 'score': 0.001717696781270206}, {'label': 'amusement', 'score': 0.0016351700760424137}, {'label': 'curiosity', 'score': 0.001631453400477767}, {'label': 'nervousness', 'score': 0.0013456207234412432}, {'label': 'anger', 'score': 0.0012084473855793476}, {'label': 'surprise', 'score': 0.0011681407922878861}, {'label': 'grief', 'score': 0.0007534433389082551}, {'label': 'disgust', 'score': 0.000708065286744386}, {'label': 'embarrassment', 'score': 0.0004468555562198162}]]\n",
      "Each challenge is an opportunity to learn and grow, strengthening our resilience and wisdom [[{'label': 'approval', 'score': 0.41503196954727173}, {'label': 'admiration', 'score': 0.36022287607192993}, {'label': 'neutral', 'score': 0.17125903069972992}, {'label': 'optimism', 'score': 0.15788856148719788}, {'label': 'caring', 'score': 0.052812013775110245}, {'label': 'realization', 'score': 0.026105016469955444}, {'label': 'gratitude', 'score': 0.019423512741923332}, {'label': 'pride', 'score': 0.016720470041036606}, {'label': 'excitement', 'score': 0.00890443380922079}, {'label': 'desire', 'score': 0.007986600510776043}, {'label': 'relief', 'score': 0.007342152297496796}, {'label': 'joy', 'score': 0.004583301022648811}, {'label': 'disapproval', 'score': 0.003023195080459118}, {'label': 'annoyance', 'score': 0.002743062097579241}, {'label': 'disappointment', 'score': 0.0024356944486498833}, {'label': 'fear', 'score': 0.0017898123478516936}, {'label': 'sadness', 'score': 0.0016004391945898533}, {'label': 'surprise', 'score': 0.0015402032295241952}, {'label': 'curiosity', 'score': 0.0014133905060589314}, {'label': 'love', 'score': 0.0012079098960384727}, {'label': 'confusion', 'score': 0.001151548814959824}, {'label': 'remorse', 'score': 0.0010075465543195605}, {'label': 'grief', 'score': 0.000882116612046957}, {'label': 'nervousness', 'score': 0.0008233684930019081}, {'label': 'anger', 'score': 0.000661203870549798}, {'label': 'disgust', 'score': 0.0006398481782525778}, {'label': 'amusement', 'score': 0.0005630406667478383}, {'label': 'embarrassment', 'score': 0.0004956887569278479}]]\n",
      "Disappointment can hurt us deeply, leaving us vulnerable and asking why [[{'label': 'sadness', 'score': 0.66805100440979}, {'label': 'disappointment', 'score': 0.4564759433269501}, {'label': 'curiosity', 'score': 0.05514754727482796}, {'label': 'remorse', 'score': 0.03565121069550514}, {'label': 'neutral', 'score': 0.035572417080402374}, {'label': 'annoyance', 'score': 0.027380138635635376}, {'label': 'confusion', 'score': 0.021863531321287155}, {'label': 'disapproval', 'score': 0.015374787151813507}, {'label': 'nervousness', 'score': 0.014951243065297604}, {'label': 'realization', 'score': 0.011551907286047935}, {'label': 'grief', 'score': 0.011517888866364956}, {'label': 'embarrassment', 'score': 0.008455388247966766}, {'label': 'approval', 'score': 0.008433620445430279}, {'label': 'caring', 'score': 0.008318217471241951}, {'label': 'anger', 'score': 0.007663281634449959}, {'label': 'love', 'score': 0.006045215297490358}, {'label': 'admiration', 'score': 0.005395112559199333}, {'label': 'surprise', 'score': 0.004497329238802195}, {'label': 'fear', 'score': 0.004379626363515854}, {'label': 'optimism', 'score': 0.004156766925007105}, {'label': 'desire', 'score': 0.0030311790760606527}, {'label': 'disgust', 'score': 0.002947071800008416}, {'label': 'joy', 'score': 0.002544403076171875}, {'label': 'excitement', 'score': 0.002140133175998926}, {'label': 'amusement', 'score': 0.001618247595615685}, {'label': 'relief', 'score': 0.0015395735390484333}, {'label': 'gratitude', 'score': 0.0007861111662350595}, {'label': 'pride', 'score': 0.00034918068558909}]]\n",
      "Sadness sometimes seems endless, wrapping us in a dark and disheartening embrace [[{'label': 'sadness', 'score': 0.9077373743057251}, {'label': 'disappointment', 'score': 0.06263525038957596}, {'label': 'grief', 'score': 0.03388712555170059}, {'label': 'neutral', 'score': 0.026491057127714157}, {'label': 'remorse', 'score': 0.01636686734855175}, {'label': 'realization', 'score': 0.0116064278408885}, {'label': 'annoyance', 'score': 0.011566372588276863}, {'label': 'caring', 'score': 0.011533639393746853}, {'label': 'approval', 'score': 0.009787729941308498}, {'label': 'admiration', 'score': 0.009700264781713486}, {'label': 'love', 'score': 0.008141865022480488}, {'label': 'anger', 'score': 0.0069875046610832214}, {'label': 'disapproval', 'score': 0.006825069896876812}, {'label': 'joy', 'score': 0.005742339882999659}, {'label': 'amusement', 'score': 0.004948796238750219}, {'label': 'curiosity', 'score': 0.004912733566015959}, {'label': 'disgust', 'score': 0.004412488080561161}, {'label': 'nervousness', 'score': 0.0042308480478823185}, {'label': 'desire', 'score': 0.00400739349424839}, {'label': 'gratitude', 'score': 0.0036472808569669724}, {'label': 'fear', 'score': 0.0031023207120597363}, {'label': 'confusion', 'score': 0.00276781152933836}, {'label': 'surprise', 'score': 0.0024859076365828514}, {'label': 'optimism', 'score': 0.002346003195270896}, {'label': 'relief', 'score': 0.001890796353109181}, {'label': 'embarrassment', 'score': 0.001867177663370967}, {'label': 'excitement', 'score': 0.0018528698710724711}, {'label': 'pride', 'score': 0.00047236448153853416}]]\n",
      "Loneliness can be overwhelming, reminding us of the innate need for connection and companionship [[{'label': 'sadness', 'score': 0.7169275879859924}, {'label': 'disappointment', 'score': 0.18881666660308838}, {'label': 'neutral', 'score': 0.08769352734088898}, {'label': 'realization', 'score': 0.036080095916986465}, {'label': 'approval', 'score': 0.033880170434713364}, {'label': 'annoyance', 'score': 0.021826546639204025}, {'label': 'nervousness', 'score': 0.012497794814407825}, {'label': 'grief', 'score': 0.011685236357152462}, {'label': 'caring', 'score': 0.009638635441660881}, {'label': 'desire', 'score': 0.00924217700958252}, {'label': 'disapproval', 'score': 0.007986925542354584}, {'label': 'love', 'score': 0.007792225573211908}, {'label': 'remorse', 'score': 0.007707183249294758}, {'label': 'joy', 'score': 0.006033745594322681}, {'label': 'admiration', 'score': 0.005450685974210501}, {'label': 'relief', 'score': 0.003761900356039405}, {'label': 'disgust', 'score': 0.0030658573377877474}, {'label': 'embarrassment', 'score': 0.002949757734313607}, {'label': 'anger', 'score': 0.0029441125225275755}, {'label': 'fear', 'score': 0.002821004018187523}, {'label': 'curiosity', 'score': 0.0027083316817879677}, {'label': 'confusion', 'score': 0.00249522365629673}, {'label': 'optimism', 'score': 0.002380511723458767}, {'label': 'excitement', 'score': 0.0019388155778869987}, {'label': 'surprise', 'score': 0.0017996389651671052}, {'label': 'amusement', 'score': 0.0015595981385558844}, {'label': 'pride', 'score': 0.00081942870747298}, {'label': 'gratitude', 'score': 0.0005829744623042643}]]\n",
      "Disease is a reminder of our fragility, challenging our strength and endurance [[{'label': 'neutral', 'score': 0.7068752646446228}, {'label': 'approval', 'score': 0.09131401032209396}, {'label': 'realization', 'score': 0.05879869684576988}, {'label': 'disappointment', 'score': 0.04028595983982086}, {'label': 'sadness', 'score': 0.020232344046235085}, {'label': 'optimism', 'score': 0.01699059084057808}, {'label': 'admiration', 'score': 0.015950871631503105}, {'label': 'disapproval', 'score': 0.010307366028428078}, {'label': 'annoyance', 'score': 0.010060125961899757}, {'label': 'caring', 'score': 0.008952056989073753}, {'label': 'fear', 'score': 0.006728423293679953}, {'label': 'desire', 'score': 0.004760747775435448}, {'label': 'nervousness', 'score': 0.0045227305963635445}, {'label': 'relief', 'score': 0.003475866047665477}, {'label': 'disgust', 'score': 0.0024043896701186895}, {'label': 'pride', 'score': 0.002014573896303773}, {'label': 'embarrassment', 'score': 0.0017499476671218872}, {'label': 'confusion', 'score': 0.0016581387026235461}, {'label': 'grief', 'score': 0.0013891145354136825}, {'label': 'excitement', 'score': 0.001310430932790041}, {'label': 'remorse', 'score': 0.0011381625663489103}, {'label': 'surprise', 'score': 0.0009928580839186907}, {'label': 'joy', 'score': 0.0009431070066057146}, {'label': 'curiosity', 'score': 0.0008812454761937261}, {'label': 'anger', 'score': 0.0008629004005342722}, {'label': 'gratitude', 'score': 0.0005778876948170364}, {'label': 'love', 'score': 0.0005165961338207126}, {'label': 'amusement', 'score': 0.0003858380950987339}]]\n",
      "Envy poisons the heart and soul, moving us away from joy and inner peace [[{'label': 'sadness', 'score': 0.45902591943740845}, {'label': 'disappointment', 'score': 0.3052401840686798}, {'label': 'neutral', 'score': 0.06820933520793915}, {'label': 'annoyance', 'score': 0.060300521552562714}, {'label': 'joy', 'score': 0.04477287456393242}, {'label': 'realization', 'score': 0.02221769466996193}, {'label': 'disapproval', 'score': 0.02162201888859272}, {'label': 'approval', 'score': 0.020822590216994286}, {'label': 'nervousness', 'score': 0.012308360077440739}, {'label': 'relief', 'score': 0.008481837809085846}, {'label': 'anger', 'score': 0.0069710006937384605}, {'label': 'grief', 'score': 0.006140390411019325}, {'label': 'caring', 'score': 0.005941722542047501}, {'label': 'remorse', 'score': 0.00472400663420558}, {'label': 'embarrassment', 'score': 0.0041950903832912445}, {'label': 'love', 'score': 0.003834082745015621}, {'label': 'desire', 'score': 0.0037565110251307487}, {'label': 'disgust', 'score': 0.003499583574011922}, {'label': 'amusement', 'score': 0.003071495331823826}, {'label': 'excitement', 'score': 0.0027055395767092705}, {'label': 'admiration', 'score': 0.002580096712335944}, {'label': 'optimism', 'score': 0.002337452257052064}, {'label': 'fear', 'score': 0.002221120987087488}, {'label': 'confusion', 'score': 0.0018315730849280953}, {'label': 'pride', 'score': 0.001251819310709834}, {'label': 'curiosity', 'score': 0.0012009866768494248}, {'label': 'surprise', 'score': 0.0011623622849583626}, {'label': 'gratitude', 'score': 0.0009779856773093343}]]\n",
      "Fear can paralyze us, limiting our actions and hindering our potential [[{'label': 'fear', 'score': 0.4465327858924866}, {'label': 'nervousness', 'score': 0.22194787859916687}, {'label': 'neutral', 'score': 0.11042459309101105}, {'label': 'disappointment', 'score': 0.09221449494361877}, {'label': 'sadness', 'score': 0.07876264303922653}, {'label': 'realization', 'score': 0.03465147316455841}, {'label': 'disapproval', 'score': 0.029102781787514687}, {'label': 'approval', 'score': 0.02229643613100052}, {'label': 'annoyance', 'score': 0.02166825719177723}, {'label': 'caring', 'score': 0.01769092306494713}, {'label': 'optimism', 'score': 0.010063113644719124}, {'label': 'confusion', 'score': 0.009856272488832474}, {'label': 'embarrassment', 'score': 0.006570131983608007}, {'label': 'disgust', 'score': 0.004590569995343685}, {'label': 'relief', 'score': 0.004286406561732292}, {'label': 'anger', 'score': 0.0038153277710080147}, {'label': 'admiration', 'score': 0.003722953610122204}, {'label': 'desire', 'score': 0.0037123658694326878}, {'label': 'grief', 'score': 0.0035902182571589947}, {'label': 'joy', 'score': 0.003325005993247032}, {'label': 'surprise', 'score': 0.002993350848555565}, {'label': 'excitement', 'score': 0.0029305664356797934}, {'label': 'remorse', 'score': 0.00247478811070323}, {'label': 'curiosity', 'score': 0.0024317987263202667}, {'label': 'love', 'score': 0.002340146107599139}, {'label': 'amusement', 'score': 0.0018491247901692986}, {'label': 'pride', 'score': 0.0009800601983442903}, {'label': 'gratitude', 'score': 0.0006698307115584612}]]\n",
      "Injustice hurts equality and peace, scarring society and the human heart [[{'label': 'sadness', 'score': 0.6654187440872192}, {'label': 'disappointment', 'score': 0.299567848443985}, {'label': 'annoyance', 'score': 0.08105559647083282}, {'label': 'anger', 'score': 0.04929940775036812}, {'label': 'neutral', 'score': 0.033652257174253464}, {'label': 'disapproval', 'score': 0.021044813096523285}, {'label': 'realization', 'score': 0.013906354084610939}, {'label': 'approval', 'score': 0.012837368994951248}, {'label': 'disgust', 'score': 0.010724321939051151}, {'label': 'remorse', 'score': 0.009100547060370445}, {'label': 'grief', 'score': 0.008768819272518158}, {'label': 'caring', 'score': 0.0051040491089224815}, {'label': 'embarrassment', 'score': 0.004288118332624435}, {'label': 'admiration', 'score': 0.004016957711428404}, {'label': 'desire', 'score': 0.0034542176872491837}, {'label': 'nervousness', 'score': 0.0034116306342184544}, {'label': 'love', 'score': 0.003260417142882943}, {'label': 'optimism', 'score': 0.0030088324565440416}, {'label': 'fear', 'score': 0.002904048189520836}, {'label': 'confusion', 'score': 0.002316833706572652}, {'label': 'curiosity', 'score': 0.0021431308705359697}, {'label': 'joy', 'score': 0.0017216990236192942}, {'label': 'surprise', 'score': 0.0011280231410637498}, {'label': 'relief', 'score': 0.0010264540323987603}, {'label': 'amusement', 'score': 0.0009605107479728758}, {'label': 'gratitude', 'score': 0.0008885598508641124}, {'label': 'excitement', 'score': 0.0007407314260490239}, {'label': 'pride', 'score': 0.0005565093597397208}]]\n",
      "Hate only generates more hatred, fueling a destructive cycle that we must break [[{'label': 'anger', 'score': 0.35481521487236023}, {'label': 'annoyance', 'score': 0.34082621335983276}, {'label': 'disapproval', 'score': 0.1380520462989807}, {'label': 'neutral', 'score': 0.08418115973472595}, {'label': 'approval', 'score': 0.0732661783695221}, {'label': 'caring', 'score': 0.04621381685137749}, {'label': 'disappointment', 'score': 0.03322148695588112}, {'label': 'disgust', 'score': 0.0314394012093544}, {'label': 'sadness', 'score': 0.027889646589756012}, {'label': 'desire', 'score': 0.02224191091954708}, {'label': 'optimism', 'score': 0.01945921778678894}, {'label': 'realization', 'score': 0.015291491523385048}, {'label': 'fear', 'score': 0.005694577936083078}, {'label': 'love', 'score': 0.003943853545933962}, {'label': 'remorse', 'score': 0.0038439512718468904}, {'label': 'embarrassment', 'score': 0.00372829707339406}, {'label': 'confusion', 'score': 0.003494422184303403}, {'label': 'curiosity', 'score': 0.0022505116648972034}, {'label': 'nervousness', 'score': 0.002157237147912383}, {'label': 'admiration', 'score': 0.0015859304694458842}, {'label': 'grief', 'score': 0.0015189130790531635}, {'label': 'excitement', 'score': 0.0011812071315944195}, {'label': 'pride', 'score': 0.0011179380817338824}, {'label': 'joy', 'score': 0.0011009711306542158}, {'label': 'gratitude', 'score': 0.0011006754357367754}, {'label': 'relief', 'score': 0.0009538052836433053}, {'label': 'amusement', 'score': 0.0006629365379922092}, {'label': 'surprise', 'score': 0.00045793934259563684}]]\n",
      "Loss reminds us how ephemeral life is, making us value every moment [[{'label': 'neutral', 'score': 0.42129725217819214}, {'label': 'realization', 'score': 0.3894105851650238}, {'label': 'approval', 'score': 0.13515008985996246}, {'label': 'sadness', 'score': 0.03513576090335846}, {'label': 'disappointment', 'score': 0.02167743258178234}, {'label': 'admiration', 'score': 0.02061128243803978}, {'label': 'caring', 'score': 0.016474392265081406}, {'label': 'relief', 'score': 0.013348106294870377}, {'label': 'optimism', 'score': 0.012410902418196201}, {'label': 'annoyance', 'score': 0.008667107671499252}, {'label': 'pride', 'score': 0.008052662014961243}, {'label': 'joy', 'score': 0.006404212675988674}, {'label': 'remorse', 'score': 0.004679165780544281}, {'label': 'desire', 'score': 0.004387947265058756}, {'label': 'grief', 'score': 0.004334709141403437}, {'label': 'disapproval', 'score': 0.004021509550511837}, {'label': 'nervousness', 'score': 0.0037009106017649174}, {'label': 'fear', 'score': 0.003633869579061866}, {'label': 'embarrassment', 'score': 0.0034735233057290316}, {'label': 'gratitude', 'score': 0.003351182909682393}, {'label': 'love', 'score': 0.002710854634642601}, {'label': 'surprise', 'score': 0.0019010213436558843}, {'label': 'disgust', 'score': 0.001844413229264319}, {'label': 'excitement', 'score': 0.0016755308024585247}, {'label': 'anger', 'score': 0.0016306977486237884}, {'label': 'confusion', 'score': 0.001350980717688799}, {'label': 'amusement', 'score': 0.000988450483419001}, {'label': 'curiosity', 'score': 0.0005127715994603932}]]\n",
      "Lie undermines trust in others, eroding the foundations of our relationships [[{'label': 'disappointment', 'score': 0.4371770918369293}, {'label': 'annoyance', 'score': 0.18998706340789795}, {'label': 'neutral', 'score': 0.1268838495016098}, {'label': 'sadness', 'score': 0.10104120522737503}, {'label': 'approval', 'score': 0.09812266379594803}, {'label': 'disapproval', 'score': 0.0575946681201458}, {'label': 'realization', 'score': 0.0499710887670517}, {'label': 'anger', 'score': 0.01964104175567627}, {'label': 'caring', 'score': 0.0184000413864851}, {'label': 'optimism', 'score': 0.017665790393948555}, {'label': 'disgust', 'score': 0.010623062960803509}, {'label': 'embarrassment', 'score': 0.008844700641930103}, {'label': 'remorse', 'score': 0.0075150541961193085}, {'label': 'nervousness', 'score': 0.007491014432162046}, {'label': 'fear', 'score': 0.005455294158309698}, {'label': 'desire', 'score': 0.00408463878557086}, {'label': 'love', 'score': 0.0033333722967654467}, {'label': 'relief', 'score': 0.0033260586205869913}, {'label': 'admiration', 'score': 0.002967139473184943}, {'label': 'grief', 'score': 0.002511216327548027}, {'label': 'confusion', 'score': 0.0020143776200711727}, {'label': 'pride', 'score': 0.0011905295541509986}, {'label': 'joy', 'score': 0.0010493036825209856}, {'label': 'curiosity', 'score': 0.0009774784557521343}, {'label': 'gratitude', 'score': 0.0007753178360871971}, {'label': 'surprise', 'score': 0.0007093799649737775}, {'label': 'excitement', 'score': 0.0006918314611539245}, {'label': 'amusement', 'score': 0.0004287257033865899}]]\n",
      "I'm sorry. [[{'label': 'remorse', 'score': 0.7849797606468201}, {'label': 'sadness', 'score': 0.28328534960746765}, {'label': 'caring', 'score': 0.03278449922800064}, {'label': 'neutral', 'score': 0.0298546701669693}, {'label': 'approval', 'score': 0.020573323592543602}, {'label': 'disappointment', 'score': 0.016257429495453835}, {'label': 'gratitude', 'score': 0.013712243176996708}, {'label': 'realization', 'score': 0.011578126810491085}, {'label': 'disapproval', 'score': 0.011114447377622128}, {'label': 'optimism', 'score': 0.009360859170556068}, {'label': 'embarrassment', 'score': 0.0076367552392184734}, {'label': 'grief', 'score': 0.007021891884505749}, {'label': 'curiosity', 'score': 0.006343386601656675}, {'label': 'annoyance', 'score': 0.0062371050007641315}, {'label': 'confusion', 'score': 0.005248256027698517}, {'label': 'admiration', 'score': 0.005186877679079771}, {'label': 'desire', 'score': 0.005106754135340452}, {'label': 'love', 'score': 0.004513343330472708}, {'label': 'amusement', 'score': 0.003894197288900614}, {'label': 'anger', 'score': 0.003536853939294815}, {'label': 'joy', 'score': 0.003511634888127446}, {'label': 'nervousness', 'score': 0.0026699684094637632}, {'label': 'disgust', 'score': 0.002654086798429489}, {'label': 'relief', 'score': 0.002318668644875288}, {'label': 'excitement', 'score': 0.001647901488468051}, {'label': 'fear', 'score': 0.0015504925977438688}, {'label': 'surprise', 'score': 0.000947332417126745}, {'label': 'pride', 'score': 0.0006732443580403924}]]\n"
     ]
    }
   ],
   "source": [
    "for x in positivas:\n",
    "    print(traductor(x)[0]['translation_text'], clasificador(traductor(x)[0]['translation_text']))"
   ]
  },
  {
   "cell_type": "code",
   "execution_count": 54,
   "metadata": {},
   "outputs": [
    {
     "data": {
      "text/plain": [
       "'The day is beautiful.'"
      ]
     },
     "execution_count": 54,
     "metadata": {},
     "output_type": "execute_result"
    }
   ],
   "source": [
    "traduc('el dia esta hermoso')"
   ]
  }
 ],
 "metadata": {
  "kernelspec": {
   "display_name": "Python 3",
   "language": "python",
   "name": "python3"
  },
  "language_info": {
   "codemirror_mode": {
    "name": "ipython",
    "version": 3
   },
   "file_extension": ".py",
   "mimetype": "text/x-python",
   "name": "python",
   "nbconvert_exporter": "python",
   "pygments_lexer": "ipython3",
   "version": "3.11.5"
  }
 },
 "nbformat": 4,
 "nbformat_minor": 2
}
